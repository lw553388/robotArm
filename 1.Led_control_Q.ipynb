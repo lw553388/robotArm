{
 "cells": [
  {
   "cell_type": "markdown",
   "metadata": {},
   "source": [
    "## 손가락으로 LED 밝기 조절하기\n",
    "\n",
    "* 손가락의 거리를 측정하여 0~255 단계로 변환"
   ]
  },
  {
   "cell_type": "code",
   "execution_count": 1,
   "metadata": {},
   "outputs": [],
   "source": [
    "import cv2\n",
    "import mediapipe as mp\n",
    "import numpy as np\n",
    "\n",
    "def get_distance(ax, ay, bx, by):\n",
    "    a = np.array([ax, ay])\n",
    "    b = np.array([bx, by])\n",
    "\n",
    "    distance = np.sqrt(np.sum(np.square(a - b)))      \n",
    "    # 최소 거리 갱신   \n",
    "    distance = 0 if distance < 10 else distance\n",
    "    return distance\n",
    "\n",
    "mp_hands = mp.solutions.hands\n",
    "hands = mp_hands.Hands()\n",
    "mp_drawing = mp.solutions.drawing_utils\n",
    "\n",
    "# 이미지 한편에 넣을 슬라이드 바 세팅값\n",
    "bar_x, bar_y, bar_width, bar_height = 500, 50, 20, 255\n",
    "bar_max_color = (0, 255, 0)\n",
    "max_distance = 200\n",
    "led_bright_max = 255\n",
    "\n",
    "cap = cv2.VideoCapture(0)\n",
    "\n",
    "while cap.isOpened():\n",
    "    ret, frame = cap.read()\n",
    "    frame = cv2.flip(frame, 1)\n",
    "    rgb_frame = cv2.cvtColor(frame, cv2.COLOR_BGR2RGB)\n",
    "    results = hands.process(rgb_frame)\n",
    "\n",
    "    if results.multi_hand_landmarks:\n",
    "        hand_landmarks = results.multi_hand_landmarks[0]\n",
    "        thumb_tip = hand_landmarks.landmark[mp_hands.HandLandmark.THUMB_TIP]\n",
    "        index_tip = hand_landmarks.landmark[mp_hands.HandLandmark.INDEX_FINGER_TIP]\n",
    "\n",
    "        img_height, img_width, _ = frame.shape\n",
    "        thumb_x, thumb_y = int(thumb_tip.x * img_width), int(thumb_tip.y * img_height)\n",
    "        index_x, index_y = int(index_tip.x * img_width), int(index_tip.y * img_height)\n",
    "\n",
    "        distance = get_distance(thumb_x, thumb_y, index_x, index_y)\n",
    "        #print(distance)\n",
    "    \n",
    "        # 거리를 LED 밝기로 변환하기\n",
    "        led_brightness = int((distance / max_distance) * led_bright_max)\n",
    "        bar_color = tuple(np.multiply(bar_max_color, led_brightness / led_bright_max).astype(int))\n",
    "\n",
    "        # 밝기 수치를 슬라이드 바로 시각화 하기  \n",
    "        cv2.rectangle(frame, (bar_x, bar_y), (bar_x + bar_width, bar_y + bar_height), (255, 255, 255), -1)  # Clear the rectangle\n",
    "        cv2.rectangle(frame, (bar_x, bar_y + bar_height - led_brightness), (bar_x + bar_width, bar_y + bar_height), tuple(map(int, bar_color)), -1)  # Fill the rectangle\n",
    "\n",
    "        # 엄지와 검지에 그린 동그라미 표시하기\n",
    "        cv2.circle(frame, (thumb_x, thumb_y), 5, (0, 255, 0), -1)  #  \n",
    "        cv2.circle(frame, (index_x, index_y), 5, (0, 255, 0), -1)  #  \n",
    "\n",
    "    cv2.imshow('Hand Landmarks', frame)\n",
    "\n",
    "    if cv2.waitKey(1) & 0xFF == ord('q'):\n",
    "        break\n",
    "\n",
    "cap.release()\n",
    "cv2.destroyAllWindows()"
   ]
  },
  {
   "cell_type": "markdown",
   "metadata": {},
   "source": [
    "## 아두이노와 결합\n",
    "\n",
    "* 아두이노와는 내장 LED를 사용한다."
   ]
  },
  {
   "cell_type": "code",
   "execution_count": 7,
   "metadata": {},
   "outputs": [],
   "source": []
  }
 ],
 "metadata": {
  "kernelspec": {
   "display_name": "Python 3",
   "language": "python",
   "name": "python3"
  },
  "language_info": {
   "codemirror_mode": {
    "name": "ipython",
    "version": 3
   },
   "file_extension": ".py",
   "mimetype": "text/x-python",
   "name": "python",
   "nbconvert_exporter": "python",
   "pygments_lexer": "ipython3",
   "version": "3.10.11"
  }
 },
 "nbformat": 4,
 "nbformat_minor": 2
}
